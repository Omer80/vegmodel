{
 "cells": [
  {
   "cell_type": "code",
   "execution_count": 7,
   "metadata": {
    "collapsed": true
   },
   "outputs": [],
   "source": [
    "from palCont import odeContinuation\n",
    "import vegModel\n",
    "import numpy as np\n",
    "import numdifftools as nd\n",
    "%matplotlib notebook\n",
    "import matplotlib.pylab as plt"
   ]
  },
  {
   "cell_type": "code",
   "execution_count": 2,
   "metadata": {},
   "outputs": [
    {
     "name": "stdout",
     "output_type": "stream",
     "text": [
      "dbdt =  b*w*(-b + 1.0)*(b*e + 1.0)**2 - b\n",
      "dwdt  =  -b*g*w*(b*e + 1.0)**2 - l*w/(b*r + 1.0) + p*(a*cos(omegaf*t) + 1.0)\n",
      "Local Jacobian: Matrix([[2*b*e*w*(-b + 1.0)*(b*e + 1.0) - b*w*(b*e + 1.0)**2 + w*(-b + 1.0)*(b*e + 1.0)**2 - 1, b*(-b + 1.0)*(b*e + 1.0)**2], [-2*b*e*g*w*(b*e + 1.0) - g*w*(b*e + 1.0)**2 + l*r*w/(b*r + 1.0)**2, -b*g*(b*e + 1.0)**2 - l/(b*r + 1.0)]])\n",
      "Time to setup:  0.821406841278\n"
     ]
    }
   ],
   "source": [
    "m = vegModel.eta()"
   ]
  },
  {
   "cell_type": "code",
   "execution_count": 3,
   "metadata": {},
   "outputs": [
    {
     "name": "stdout",
     "output_type": "stream",
     "text": [
      "Updating parameters:\n",
      "a=0.0\n",
      "p=0.7\n"
     ]
    }
   ],
   "source": [
    "t,sol = m.ode_integrate([0.3,0.4],p=0.7,a=0.0)\n",
    "#plt.plot(t,sol[0])"
   ]
  },
  {
   "cell_type": "code",
   "execution_count": 4,
   "metadata": {
    "collapsed": true
   },
   "outputs": [],
   "source": [
    "cont = odeContinuation(m,\"p\",sol.T[-1],m.p['p'],0.01)"
   ]
  },
  {
   "cell_type": "code",
   "execution_count": 5,
   "metadata": {},
   "outputs": [
    {
     "data": {
      "text/plain": [
       "array([ -3.74999476e-11,   2.83391643e-11])"
      ]
     },
     "execution_count": 5,
     "metadata": {},
     "output_type": "execute_result"
    }
   ],
   "source": [
    "cont.eqrhs([0.3471060332363533, 0.3200006350910965],0.7)"
   ]
  },
  {
   "cell_type": "code",
   "execution_count": 8,
   "metadata": {
    "collapsed": true
   },
   "outputs": [],
   "source": [
    "Jfun = nd.Jacobian(cont.eqrhs)"
   ]
  },
  {
   "cell_type": "code",
   "execution_count": 18,
   "metadata": {},
   "outputs": [
    {
     "name": "stdout",
     "output_type": "stream",
     "text": [
      "100 loops, best of 3: 2.73 ms per loop\n",
      "10000 loops, best of 3: 19.9 µs per loop\n"
     ]
    }
   ],
   "source": [
    "np.allclose(Jfun([0.3471060332363533, 0.3200006350910965],0.7),cont.Gu(0.3471060332363533, 0.3200006350910965,0.7))\n",
    "%timeit Jfun([0.3471060332363533, 0.3200006350910965],0.7)\n",
    "%timeit cont.Gu(0.3471060332363533, 0.3200006350910965,0.7)"
   ]
  }
 ],
 "metadata": {
  "anaconda-cloud": {},
  "kernelspec": {
   "display_name": "Python [conda env:anaconda2]",
   "language": "python",
   "name": "conda-env-anaconda2-py"
  },
  "language_info": {
   "codemirror_mode": {
    "name": "ipython",
    "version": 2
   },
   "file_extension": ".py",
   "mimetype": "text/x-python",
   "name": "python",
   "nbconvert_exporter": "python",
   "pygments_lexer": "ipython2",
   "version": "2.7.14"
  }
 },
 "nbformat": 4,
 "nbformat_minor": 2
}
